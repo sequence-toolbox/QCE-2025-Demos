{
 "cells": [
  {
   "cell_type": "markdown",
   "id": "de00ffbb-db06-4739-8631-2ad047bf436c",
   "metadata": {},
   "source": [
    "# Quantum Teleporation Application"
   ]
  },
  {
   "cell_type": "markdown",
   "id": "ff415ec6-b546-47a1-a1cc-03d3944d81e6",
   "metadata": {},
   "source": [
    "In this demo, we'll demonstrate the simulation of the teleportation application. The network topology will have two nodes: Alice and Bob. Alice will teleport a qubit to Bob. "
   ]
  },
  {
   "cell_type": "markdown",
   "id": "3f5ab728-0253-44a6-86ef-9765ef57233c",
   "metadata": {},
   "source": [
    "## 1. The Basics\n",
    "\n",
    "The figure below shows the quantum circuit of teleportation, as well as showing which qubits belong to Alice and which qubit belongs to Bob."
   ]
  },
  {
   "cell_type": "markdown",
   "id": "9af1a5d0-a014-496c-9573-965a9017c550",
   "metadata": {},
   "source": [
    "<img src=\"figures/teleport-circuit.png\" width=\"600\">"
   ]
  },
  {
   "cell_type": "markdown",
   "id": "d386afe6-2831-4f7b-b1da-4e759ec37678",
   "metadata": {},
   "source": [
    "Let's break down quantum teleporation into 4 steps."
   ]
  },
  {
   "cell_type": "markdown",
   "id": "5c72c443-a03f-439e-b13d-cff52792b8d3",
   "metadata": {},
   "source": [
    "Step 1:\n",
    "\n",
    "<img src=\"figures/teleport-1.png\" width=\"600\">"
   ]
  },
  {
   "cell_type": "markdown",
   "id": "4ba4f938-3802-4540-b8e4-7451566506ff",
   "metadata": {},
   "source": [
    "Step 2:\n",
    "\n",
    "<img src=\"figures/teleport-2.png\" width=\"600\">"
   ]
  },
  {
   "cell_type": "markdown",
   "id": "16e64051-31e3-4f69-8034-60d24e6a57e7",
   "metadata": {},
   "source": [
    "Step 3:\n",
    "\n",
    "<img src=\"figures/teleport-3.png\" width=\"600\">"
   ]
  },
  {
   "cell_type": "markdown",
   "id": "ce54d390-2cc1-49a8-a681-27c6eb2dff42",
   "metadata": {},
   "source": [
    "Step 4:\n",
    "\n",
    "<img src=\"figures/teleport-4.png\" width=\"600\">"
   ]
  },
  {
   "cell_type": "markdown",
   "id": "26aeb69d-6314-46ef-a5ac-1fee6b871c96",
   "metadata": {},
   "source": [
    "## 2. The Code"
   ]
  },
  {
   "cell_type": "code",
   "execution_count": null,
   "id": "f1e6b064-537c-4a12-8df4-8a1533a748c6",
   "metadata": {},
   "outputs": [],
   "source": []
  }
 ],
 "metadata": {
  "kernelspec": {
   "display_name": "Python 3 (ipykernel)",
   "language": "python",
   "name": "python3"
  },
  "language_info": {
   "codemirror_mode": {
    "name": "ipython",
    "version": 3
   },
   "file_extension": ".py",
   "mimetype": "text/x-python",
   "name": "python",
   "nbconvert_exporter": "python",
   "pygments_lexer": "ipython3",
   "version": "3.13.5"
  }
 },
 "nbformat": 4,
 "nbformat_minor": 5
}
