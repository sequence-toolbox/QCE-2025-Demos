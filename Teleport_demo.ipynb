{
 "cells": [
  {
   "cell_type": "markdown",
   "id": "de00ffbb-db06-4739-8631-2ad047bf436c",
   "metadata": {},
   "source": [
    "# Quantum Teleporation Application"
   ]
  },
  {
   "cell_type": "markdown",
   "id": "ff415ec6-b546-47a1-a1cc-03d3944d81e6",
   "metadata": {},
   "source": [
    "In this demo, we'll demonstrate the simulation of the teleportation application. The network topology will have two nodes: Alice and Bob. Alice will teleport a qubit to Bob. "
   ]
  },
  {
   "cell_type": "markdown",
   "id": "3f5ab728-0253-44a6-86ef-9765ef57233c",
   "metadata": {},
   "source": [
    "## 1. The Basics\n",
    "\n",
    "The figure below shows the quantum circuit of teleportation, as well as showing which qubits belong to Alice and which qubit belongs to Bob."
   ]
  },
  {
   "cell_type": "markdown",
   "id": "9af1a5d0-a014-496c-9573-965a9017c550",
   "metadata": {},
   "source": [
    "<img src=\"figures/teleport-circuit.png\" width=\"600\">"
   ]
  },
  {
   "cell_type": "markdown",
   "id": "d386afe6-2831-4f7b-b1da-4e759ec37678",
   "metadata": {},
   "source": [
    "**Set up**: Assume node Alice and Bob both have two quantum memories, one labeled as data memory and the other labeled as communication memory. There is a quantum channel between Alice and Bob, and the BSM node is in the middle of the quantum channel.\n",
    "\n",
    "Let's break down quantum teleportation into 4 steps."
   ]
  },
  {
   "cell_type": "markdown",
   "id": "5c72c443-a03f-439e-b13d-cff52792b8d3",
   "metadata": {},
   "source": [
    "**Step 1**: The tradition is to let Alice send a qubit to Bob. So, Alice prepares $\\ket{\\psi}$ at memory $d_1$.\n",
    "\n",
    "<img src=\"figures/teleport-1.png\" width=\"600\">"
   ]
  },
  {
   "cell_type": "markdown",
   "id": "4ba4f938-3802-4540-b8e4-7451566506ff",
   "metadata": {},
   "source": [
    "**Step 2**: Generate an entangled pair between Alice's memory $c_1$ and Bob's memory $c_2$.\n",
    "\n",
    "<img src=\"figures/teleport-2.png\" width=\"600\">"
   ]
  },
  {
   "cell_type": "markdown",
   "id": "16e64051-31e3-4f69-8034-60d24e6a57e7",
   "metadata": {},
   "source": [
    "**Step 3**: Alice does a Bell measurement on it's memory $d_1$ and $c_1$. The measurement results are sent to Bob.\n",
    "\n",
    "<img src=\"figures/teleport-3.png\" width=\"600\">"
   ]
  },
  {
   "cell_type": "markdown",
   "id": "ce54d390-2cc1-49a8-a681-27c6eb2dff42",
   "metadata": {},
   "source": [
    "**Step 4**: Bob does the correction on $c_2$ upon receiving the measurement results. Then $\\ket{\\psi}$ is teleported to Bob's memory $c_2$.\n",
    "\n",
    "<img src=\"figures/teleport-4.png\" width=\"600\">"
   ]
  },
  {
   "cell_type": "markdown",
   "id": "26aeb69d-6314-46ef-a5ac-1fee6b871c96",
   "metadata": {},
   "source": [
    "## 2. Show Me The Code"
   ]
  },
  {
   "cell_type": "markdown",
   "id": "5b808f08-82b7-437b-9b1c-cd8c408cd8d5",
   "metadata": {},
   "source": [
    "**The imports**\n",
    "\n",
    "- `log`: defines the behavior for the default SeQUeNCe logging system\n",
    "- `RequestApp`: is an example application included with SeQUeNCe. We will investigate its behavior through a class that inherits from this\n",
    "- `DQCNode`: Node that supports Distributed Quantum Computing\n",
    "- `TeleportProtocol`: A network protocol that does the teleportation\n",
    "- `TeleportMessage`: Classical message used to convey the Pauli corrections (x, z) from sender to receiver during teleportation.\n",
    "- `DQCNetTopo`: Class for generating a distributed quantum computing network with distributed quantum computing nodes\n",
    "- `random_state`: Generate a random quantum state"
   ]
  },
  {
   "cell_type": "code",
   "execution_count": 1,
   "id": "f9dbd677-4416-4cad-9172-40d6aab32279",
   "metadata": {},
   "outputs": [],
   "source": [
    "import numpy as np\n",
    "import sequence.utils.log as log\n",
    "from sequence.app.request_app import RequestApp\n",
    "from sequence.topology.node import DQCNode\n",
    "from sequence.entanglement_management.teleportation import TeleportProtocol, TeleportMessage\n",
    "from sequence.topology.dqc_net_topo import DQCNetTopo\n",
    "from sequence.utils.random_state import random_state\n",
    "from sequence.constants import MILLISECOND"
   ]
  },
  {
   "cell_type": "markdown",
   "id": "9d6d4601-6f24-42d5-84f5-f5b886bc14ac",
   "metadata": {},
   "source": [
    "### 2.1 The Teleportation App"
   ]
  },
  {
   "cell_type": "markdown",
   "id": "65e9a006-db3c-44f2-aa68-1d513fd218b7",
   "metadata": {},
   "source": [
    "The class `TeleportApp` is responsible for managing quantum teleportation between quantum nodes. It utilizes the `TeleportProtocol` to handle the teleportation process, including the reservation of entangled pairs and the application of corrections based on classical messages."
   ]
  },
  {
   "cell_type": "code",
   "execution_count": 2,
   "id": "012f8a0f-0c17-45c7-9555-4feb58869554",
   "metadata": {},
   "outputs": [],
   "source": [
    "class TeleportApp(RequestApp):\n",
    "    \"\"\"Code for the teleport application.\n",
    "\n",
    "    TeleportApp is a specialized RequestApp that implements quantum teleportation.\n",
    "    It handles the teleportation protocol between two quantum nodes (Alice and Bob).\n",
    "\n",
    "    Attributes:\n",
    "        node (DQCNode): The quantum node this app is attached to.\n",
    "        name (str): The name of the teleport application.\n",
    "        results (list): List to store the results of teleportation.\n",
    "        teleport_protocol (TeleportProtocol): The teleportation protocol instance.\n",
    "    \"\"\"\n",
    "    def __init__(self, node: DQCNode):\n",
    "        super().__init__(node)\n",
    "        self.name = f\"{self.node.name}.TeleportApp\"\n",
    "        node.teleport_app = self   # register ourselves so incoming TeleportMessage lands here:\n",
    "        self.results = []          # where we’ll collect Bob’s teleported state\n",
    "        self.teleport_protocol = TeleportProtocol(owner=node, data_src=None)  # create a single protocol instance, on both Alice & Bob\n",
    "\n",
    "    def start(self, responder: str, start_t: int, end_t: int, memory_size: int, fidelity: float, data_src: int):\n",
    "        \"\"\"Start the teleportation process.\n",
    "\n",
    "        Args: \n",
    "            responder (str): Name of the responder node (Bob).\n",
    "            start_t (int): Start time of the teleportation (in ps).\n",
    "            end_t (int): End time of the teleportation (in ps).\n",
    "            memory_size (int): Size of the memory used for the teleportation.\n",
    "            fidelity (float): Target fidelity of the teleportation.\n",
    "            data_src (int): Index of the data qubit to be teleported.\n",
    "        \"\"\"\n",
    "        # configure our single protocol\n",
    "        self.teleport_protocol.data_src     = data_src\n",
    "        self.teleport_protocol.is_initiator = (self.node.name != responder)\n",
    "        self.teleport_protocol.remote       = responder\n",
    "\n",
    "        # cache Alice’s data‐qubit key for the Bell measurement\n",
    "        memory_array = self.node.get_component_by_name(self.node.data_memo_arr_name)\n",
    "        data_memory = memory_array[data_src]\n",
    "        self.teleport_protocol.data_memory = data_memory\n",
    "        self.teleport_protocol._q_data     = data_memory.qstate_key\n",
    "\n",
    "        log.logger.debug(f\"{self.name}: start() → responder={responder}, data_src={data_src}\")\n",
    "\n",
    "        # reserve and generate EPR pair\n",
    "        super().start(responder, start_t, end_t, memory_size, fidelity)\n",
    "\n",
    "        # notify the protocol we’re kicking off\n",
    "        self.teleport_protocol.start()\n",
    "\n",
    "    def get_reservation_result(self, reservation, result: bool):\n",
    "        \"\"\"Handle the reservation result from the network manager.\n",
    "\n",
    "        Args:\n",
    "            reservation (Reservation): The reservation object.\n",
    "            result (bool): True if the reservation was successful, False otherwise.\n",
    "        \"\"\"\n",
    "        super().get_reservation_result(reservation, result)\n",
    "        log.logger.debug(f\"{self.name}: reservation_result → {result}\")\n",
    "\n",
    "    def get_memory(self, info):\n",
    "        \"\"\"Handle memory state changes.\n",
    "\n",
    "        Args:\n",
    "            info (MemoryInfo): Information about the memory state change.\n",
    "        \"\"\"\n",
    "        # once we see our entangled half, hand it to the protocol\n",
    "        if info.index in self.memo_to_reservation:\n",
    "            if info.state == \"ENTANGLED\":\n",
    "                self.teleport_protocol.handle_entangled(info, self.memo_to_reservation[info.index])\n",
    "\n",
    "    def received_message(self, src: str, msg: TeleportMessage):\n",
    "        \"\"\"Handle incoming teleport messages.\n",
    "\n",
    "        Args:\n",
    "            src (str): Source node name.\n",
    "            msg (TeleportMessage): The teleport message received.\n",
    "        \"\"\"\n",
    "        # feed Bob’s corrections into the protocol\n",
    "        self.teleport_protocol.received_message(src, msg)\n",
    "\n",
    "    def teleport_complete(self, comm_key: int):\n",
    "        \"\"\"Called by TeleportProtocol once Bob's qubit is corrected. comm_key holds the teleported |ψ⟩.\n",
    "\n",
    "        Args:\n",
    "            comm_key (int): The key of the comm memory where the teleported state is stored.\n",
    "        \"\"\"\n",
    "        my_qubit  = self.node.timeline.quantum_manager.get(comm_key)\n",
    "        psi = my_qubit.state # get qubit state\n",
    "        self.results.append(psi) #append result to the list\n"
   ]
  },
  {
   "cell_type": "markdown",
   "id": "7c02d3ae-bf25-4b7a-99d7-609287fb0284",
   "metadata": {},
   "source": [
    "### 2.2 The teleport() function\n",
    "\n",
    "Teleport a $\\ket{\\psi}$ from Alice to Bob"
   ]
  },
  {
   "cell_type": "code",
   "execution_count": 3,
   "id": "0be89adc-b0fa-451e-b91d-b79aa6b282e9",
   "metadata": {},
   "outputs": [],
   "source": [
    "def teleport(psi: np.array) -> np.array:\n",
    "    \"\"\"Do a teleportation\n",
    "    Args:\n",
    "        psi (np.array): the state to be teleported at Alice\n",
    "    Return:\n",
    "        np.array: the state received at Bob\n",
    "    \"\"\"\n",
    "    \n",
    "    topo = DQCNetTopo(\"teleport_2node.json\")\n",
    "    tl   = topo.tl\n",
    "\n",
    "    log_filename = 'teleport.log'\n",
    "    log.set_logger(__name__, tl, log_filename)\n",
    "    log.set_logger_level('INFO')\n",
    "    modules = ['generation', 'teleportation']\n",
    "    for module in modules:\n",
    "        log.track_module(module)\n",
    "\n",
    "    nodes = topo.nodes[DQCNetTopo.DQC_NODE]\n",
    "    alice = next(n for n in nodes if n.name==\"router_0\")\n",
    "    bob   = next(n for n in nodes if n.name==\"router_1\")\n",
    "    \n",
    "    # 1) Prepare |ψ> in Alice’s data qubit\n",
    "    data_memo_arr = alice.get_component_by_name(alice.data_memo_arr_name)\n",
    "    data_memo_arr[0].update_state(psi)\n",
    "\n",
    "    # 2) Attach the TeleportApp on both nodes\n",
    "    alice_app = TeleportApp(alice)\n",
    "    bob_app   = TeleportApp(bob)\n",
    "\n",
    "    # 3) Kick off teleport\n",
    "    alice_app.start(\n",
    "        responder   = bob.name,\n",
    "        start_t     = 10  * MILLISECOND,\n",
    "        end_t       = 30 * MILLISECOND,\n",
    "        memory_size = 1,\n",
    "        fidelity    = 0.8,\n",
    "        data_src    = 0\n",
    "    )\n",
    "    \n",
    "    # 4) Run the simulation\n",
    "    tl.init()\n",
    "    tl.run()\n",
    "    \n",
    "    # 5) Read out Bob’s data qubit state\n",
    "    teleported_qubit = bob_app.results[0]\n",
    "\n",
    "    return np.array(teleported_qubit)"
   ]
  },
  {
   "cell_type": "markdown",
   "id": "f209e2b1-3a27-4b13-bcc4-fcc539be76dc",
   "metadata": {},
   "source": [
    "### 2.3 The main() function"
   ]
  },
  {
   "cell_type": "code",
   "execution_count": 4,
   "id": "5ce5ecef-e28b-4cd2-a980-c1ea8b0b4380",
   "metadata": {},
   "outputs": [],
   "source": [
    "def main():\n",
    "    psi = np.array(random_state())\n",
    "    \n",
    "    teleported_psi = teleport(psi)  # run the teleporation\n",
    "    \n",
    "    print(f'psi            = {psi}')\n",
    "    print(f'teleported psi = {teleported_psi}')\n",
    "    \n",
    "    assert teleported_psi.shape == psi.shape\n",
    "    assert np.allclose(teleported_psi, psi, atol=1e-6), f\"teleported state {teleported_psi} != original {psi}\"\n",
    "    \n",
    "    print('\\nTeleporation success!')"
   ]
  },
  {
   "cell_type": "code",
   "execution_count": 5,
   "id": "35d1b103-6519-4b9e-9165-e2383d0260fa",
   "metadata": {},
   "outputs": [
    {
     "name": "stdout",
     "output_type": "stream",
     "text": [
      "psi            = [ 0.70368352+0.j         -0.25830117+0.66189879j]\n",
      "teleported psi = [ 0.70368352+0.j         -0.25830117+0.66189879j]\n",
      "\n",
      "Teleporation success!\n"
     ]
    }
   ],
   "source": [
    "# please run this cell repeatedly\n",
    "main()"
   ]
  },
  {
   "cell_type": "markdown",
   "id": "dc0624b1-645f-48e7-a056-152d64f96654",
   "metadata": {},
   "source": [
    "**NOTE**: Please checkout the `teleport.log` file go see the events being logged."
   ]
  }
 ],
 "metadata": {
  "kernelspec": {
   "display_name": "Python 3 (ipykernel)",
   "language": "python",
   "name": "python3"
  },
  "language_info": {
   "codemirror_mode": {
    "name": "ipython",
    "version": 3
   },
   "file_extension": ".py",
   "mimetype": "text/x-python",
   "name": "python",
   "nbconvert_exporter": "python",
   "pygments_lexer": "ipython3",
   "version": "3.13.5"
  }
 },
 "nbformat": 4,
 "nbformat_minor": 5
}
